{
 "cells": [
  {
   "cell_type": "markdown",
   "id": "44ce44d6-5706-440e-adb7-b1ecfff0bdf0",
   "metadata": {},
   "source": [
    "### Motorcycle Accident Detection Project Summary\n",
    "\n",
    "This notebook highlights an interesting solution a discovered when working on a professional project to automatically detect motorcycle collisions with an insurance black box. The solution was developed for a company delivering solutions for East Africa where motorcycles transport is the most common form of transportation.\n",
    "\n",
    "I have permission to share these results. Since much of the work I completed is deemed intellectual property for the company I'm only including a small subsection. "
   ]
  },
  {
   "cell_type": "code",
   "execution_count": null,
   "id": "07ef9edc-28f1-45ed-8708-989e2ba9ac87",
   "metadata": {},
   "outputs": [],
   "source": []
  }
 ],
 "metadata": {
  "kernelspec": {
   "display_name": "Python 3 (ipykernel)",
   "language": "python",
   "name": "python3"
  },
  "language_info": {
   "codemirror_mode": {
    "name": "ipython",
    "version": 3
   },
   "file_extension": ".py",
   "mimetype": "text/x-python",
   "name": "python",
   "nbconvert_exporter": "python",
   "pygments_lexer": "ipython3",
   "version": "3.8.10"
  }
 },
 "nbformat": 4,
 "nbformat_minor": 5
}
